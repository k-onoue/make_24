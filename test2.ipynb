{
 "cells": [
  {
   "cell_type": "code",
   "execution_count": 1,
   "metadata": {},
   "outputs": [
    {
     "ename": "ModuleNotFoundError",
     "evalue": "No module named 'anytree'",
     "output_type": "error",
     "traceback": [
      "\u001b[0;31m---------------------------------------------------------------------------\u001b[0m",
      "\u001b[0;31mModuleNotFoundError\u001b[0m                       Traceback (most recent call last)",
      "Cell \u001b[0;32mIn[1], line 2\u001b[0m\n\u001b[1;32m      1\u001b[0m \u001b[38;5;28;01mfrom\u001b[39;00m \u001b[38;5;21;01mcopy\u001b[39;00m \u001b[38;5;28;01mimport\u001b[39;00m deepcopy\n\u001b[0;32m----> 2\u001b[0m \u001b[38;5;28;01mfrom\u001b[39;00m \u001b[38;5;21;01manytree\u001b[39;00m \u001b[38;5;28;01mimport\u001b[39;00m Node, RenderTree\n\u001b[1;32m      4\u001b[0m operators \u001b[38;5;241m=\u001b[39m [\u001b[38;5;124m'\u001b[39m\u001b[38;5;124m+\u001b[39m\u001b[38;5;124m'\u001b[39m, \u001b[38;5;124m'\u001b[39m\u001b[38;5;124m-\u001b[39m\u001b[38;5;124m'\u001b[39m, \u001b[38;5;124m'\u001b[39m\u001b[38;5;124m*\u001b[39m\u001b[38;5;124m'\u001b[39m, \u001b[38;5;124m'\u001b[39m\u001b[38;5;124m/\u001b[39m\u001b[38;5;124m'\u001b[39m]\n\u001b[1;32m      5\u001b[0m numbers \u001b[38;5;241m=\u001b[39m [\u001b[38;5;241m1\u001b[39m, \u001b[38;5;241m2\u001b[39m, \u001b[38;5;241m3\u001b[39m, \u001b[38;5;241m4\u001b[39m]\n",
      "\u001b[0;31mModuleNotFoundError\u001b[0m: No module named 'anytree'"
     ]
    }
   ],
   "source": [
    "from copy import deepcopy\n",
    "from anytree import Node, RenderTree\n",
    "\n",
    "operators = ['+', '-', '*', '/']\n",
    "numbers = [1, 2, 3, 4]\n",
    "\n",
    "print(f'operators: {operators}')\n",
    "print()\n",
    "print(f'numbers: {numbers}')"
   ]
  },
  {
   "cell_type": "code",
   "execution_count": 4,
   "metadata": {},
   "outputs": [
    {
     "name": "stdout",
     "output_type": "stream",
     "text": [
      "root_main: Node('/1')\n",
      "\n",
      "root_sub: Node(\"/([2, 3, 4], ['+', '-', '*', '/'])\")\n",
      "\n",
      "root_counter: Node('/1')\n"
     ]
    }
   ],
   "source": [
    "nums = deepcopy(numbers)\n",
    "ops = deepcopy(operators)\n",
    "\n",
    "root_main = Node(nums.pop(0))\n",
    "root_sub = Node((nums, ops))\n",
    "root_counter = Node(1)\n",
    "\n",
    "print(f'root_main: {root_main}')\n",
    "print()\n",
    "print(f'root_sub: {root_sub}')\n",
    "print()\n",
    "print(f'root_counter: {root_counter}')"
   ]
  },
  {
   "cell_type": "code",
   "execution_count": 1,
   "metadata": {},
   "outputs": [],
   "source": [
    "n = 6\n",
    "arr = list(map(int, input().rstrip().split()))\n"
   ]
  },
  {
   "cell_type": "code",
   "execution_count": 7,
   "metadata": {},
   "outputs": [
    {
     "data": {
      "text/plain": [
       "['49', '82']"
      ]
     },
     "execution_count": 7,
     "metadata": {},
     "output_type": "execute_result"
    }
   ],
   "source": [
    "\"49 82\".rstrip().split()"
   ]
  },
  {
   "cell_type": "code",
   "execution_count": 11,
   "metadata": {},
   "outputs": [
    {
     "data": {
      "text/plain": [
       "[1, 2, 3, -1, 9, 0]"
      ]
     },
     "execution_count": 11,
     "metadata": {},
     "output_type": "execute_result"
    }
   ],
   "source": [
    "list(map(int, \"1 2 3 -1 9 0\".rstrip().split()))"
   ]
  },
  {
   "cell_type": "code",
   "execution_count": 12,
   "metadata": {},
   "outputs": [
    {
     "data": {
      "text/plain": [
       "[1, 2, 3, -1, 9, 0]"
      ]
     },
     "execution_count": 12,
     "metadata": {},
     "output_type": "execute_result"
    }
   ],
   "source": [
    "list(map(int, \"1 2 3 -1 9 0\".split()))\n"
   ]
  },
  {
   "cell_type": "code",
   "execution_count": 13,
   "metadata": {},
   "outputs": [
    {
     "data": {
      "text/plain": [
       "5"
      ]
     },
     "execution_count": 13,
     "metadata": {},
     "output_type": "execute_result"
    }
   ],
   "source": [
    "tmp = [1, 2, 3, 4, 5]\n",
    "\n",
    "max(tmp)"
   ]
  },
  {
   "cell_type": "code",
   "execution_count": 14,
   "metadata": {},
   "outputs": [
    {
     "name": "stdout",
     "output_type": "stream",
     "text": [
      "45 2\n"
     ]
    }
   ],
   "source": [
    "print(45, 2)"
   ]
  },
  {
   "cell_type": "code",
   "execution_count": null,
   "metadata": {},
   "outputs": [],
   "source": []
  },
  {
   "cell_type": "code",
   "execution_count": 2,
   "metadata": {},
   "outputs": [
    {
     "name": "stdout",
     "output_type": "stream",
     "text": [
      "0 -> [1 -> [], 3 -> [], 4 -> [2 -> []]]\n"
     ]
    }
   ],
   "source": [
    "class NonBinTree:\n",
    "    def __init__(self, val):\n",
    "        self.val = val\n",
    "        self.nodes = []\n",
    "\n",
    "    def add_node(self, val):\n",
    "        self.nodes.append(NonBinTree(val))\n",
    "\n",
    "    def __repr__(self):\n",
    "        return f\"{self.val} -> {self.nodes}\"\n",
    "\n",
    "# 使用例\n",
    "a = NonBinTree(0)\n",
    "a.add_node(1)\n",
    "a.add_node(3)\n",
    "a.add_node(4)\n",
    "a.nodes[2].add_node(2)\n",
    "\n",
    "print(a)"
   ]
  },
  {
   "cell_type": "code",
   "execution_count": 6,
   "metadata": {},
   "outputs": [
    {
     "data": {
      "text/plain": [
       "'nodesnodes'"
      ]
     },
     "execution_count": 6,
     "metadata": {},
     "output_type": "execute_result"
    }
   ],
   "source": [
    "\"nodes\" * 2"
   ]
  },
  {
   "cell_type": "markdown",
   "metadata": {},
   "source": [
    "# 非二分木クラスの設計\n",
    "\n",
    "~~2次元配列をイメージする~~\n",
    "\n",
    "\n",
    "間違い\n",
    "```\n",
    "- i 行 j 列を指定して任意のノードにアクセス\n",
    "- 相対 or 絶対\n",
    "- 自分を 0 行 0 列 とする\n",
    "- (2, 3) ー＞ `nodes\n",
    "```\n",
    "\n",
    "- リストで任意のノードを指定\n",
    "- インデックスは階層を指定\n",
    "- 要素が（同階層内で）左から何番目のノードかを指定\n",
    "- [2, 3, 0] ー＞ `nodes[2].nodes[3].nodes[0]`\n",
    "\n",
    "- 修正\n",
    "- どこの位置のノードの下に足したいかを考えて指定\n",
    "\n"
   ]
  },
  {
   "cell_type": "code",
   "execution_count": 2,
   "metadata": {},
   "outputs": [
    {
     "name": "stdout",
     "output_type": "stream",
     "text": [
      "0 -> []\n",
      "a.add_node(3)\n",
      "0 -> [3 -> []]\n"
     ]
    }
   ],
   "source": [
    "class NonBinTree:\n",
    "    def __init__(self, val, var_name=\"\"):\n",
    "        self.var_name = var_name\n",
    "        self.val = val\n",
    "        self.nodes = []\n",
    "\n",
    "    def add_node(self, val):\n",
    "        self.nodes.append(NonBinTree(val))\n",
    "    \n",
    "    def __repr__(self):\n",
    "        return f\"{self.val} -> {self.nodes}\"\n",
    "        \n",
    "\n",
    "def add_node(tree, value, location_list):\n",
    "    expr1 = tree.var_name\n",
    "    expr2 = \".\".join([f\"nodes[{idx}]\" for idx in location_list])\n",
    "    expr3 = f\"add_node({value})\"\n",
    "\n",
    "    # expr_list = [expr for expr in [expr1, expr2, expr3] if expr]\n",
    "    expr_list = [expr1, expr2, expr3] if expr2 else [expr1, expr3]\n",
    "    expression = \".\".join(expr_list)\n",
    "\n",
    "    print(expression)\n",
    "\n",
    "    eval(expression)\n",
    "\n",
    "\n",
    "\n",
    "\n",
    "\n",
    "a = NonBinTree(0, var_name='a')\n",
    "print(a)\n",
    "\n",
    "add_node(a, 3, [])\n",
    "# add_node(a, 3, [1, 2, 3])\n",
    "\n",
    "print(a)"
   ]
  },
  {
   "cell_type": "code",
   "execution_count": 13,
   "metadata": {},
   "outputs": [],
   "source": [
    "class TreeManager:\n",
    "    def __init__(self, tree):\n",
    "        self.tree = tree"
   ]
  },
  {
   "cell_type": "code",
   "execution_count": 30,
   "metadata": {},
   "outputs": [
    {
     "name": "stdout",
     "output_type": "stream",
     "text": [
      "operators: ['+', '-', '*', '/']\n",
      "\n",
      "numbers: [1, 2, 3, 4]\n",
      "\n",
      "\n",
      "tree_main: 1 -> []\n",
      "\n",
      "tree_sub: ([2, 3, 4], []) -> []\n",
      "\n",
      "tree_counter: 1 -> []\n"
     ]
    }
   ],
   "source": [
    "from copy import deepcopy\n",
    "\n",
    "operators = ['+', '-', '*', '/']\n",
    "numbers = [1, 2, 3, 4]\n",
    "\n",
    "print(f'operators: {operators}')\n",
    "print()\n",
    "print(f'numbers: {numbers}')\n",
    "print()\n",
    "print()\n",
    "\n",
    "\n",
    "nums = deepcopy(numbers)\n",
    "ops = []\n",
    "\n",
    "tree_main = NonBinTree(nums.pop(0), var_name=\"tree_main\")\n",
    "tree_sub = NonBinTree((nums, ops), var_name=\"tree_sub\")\n",
    "tree_counter = NonBinTree(1, var_name=\"tree_counter\")\n",
    "\n",
    "print(f'tree_main: {tree_main}')\n",
    "print()\n",
    "print(f'tree_sub: {tree_sub}')\n",
    "print()\n",
    "print(f'tree_counter: {tree_counter}')"
   ]
  },
  {
   "cell_type": "code",
   "execution_count": 36,
   "metadata": {},
   "outputs": [],
   "source": [
    "current_location = []"
   ]
  },
  {
   "cell_type": "code",
   "execution_count": 32,
   "metadata": {},
   "outputs": [
    {
     "data": {
      "text/plain": [
       "2"
      ]
     },
     "execution_count": 32,
     "metadata": {},
     "output_type": "execute_result"
    }
   ],
   "source": [
    "tree_sub.val[0][0]"
   ]
  },
  {
   "cell_type": "code",
   "execution_count": 37,
   "metadata": {},
   "outputs": [
    {
     "name": "stdout",
     "output_type": "stream",
     "text": [
      "tree_main.add_node(2)\n"
     ]
    }
   ],
   "source": [
    "add_node(tree_main, tree_sub.val[0][0], current_location)"
   ]
  },
  {
   "cell_type": "code",
   "execution_count": 38,
   "metadata": {},
   "outputs": [
    {
     "data": {
      "text/plain": [
       "1 -> [2 -> []]"
      ]
     },
     "execution_count": 38,
     "metadata": {},
     "output_type": "execute_result"
    }
   ],
   "source": [
    "tree_main"
   ]
  },
  {
   "cell_type": "code",
   "execution_count": 43,
   "metadata": {},
   "outputs": [
    {
     "name": "stdout",
     "output_type": "stream",
     "text": [
      "<class 'int'>\n",
      "<class 'int'>\n"
     ]
    },
    {
     "data": {
      "text/plain": [
       "2"
      ]
     },
     "execution_count": 43,
     "metadata": {},
     "output_type": "execute_result"
    }
   ],
   "source": [
    "cnt = 0\n",
    "\n",
    "print(type(tree_main.val))\n",
    "cnt += 1\n",
    "\n",
    "print(type(tree_main.nodes[0].val))\n",
    "cnt += 1\n",
    "\n",
    "cnt"
   ]
  },
  {
   "cell_type": "code",
   "execution_count": 46,
   "metadata": {},
   "outputs": [],
   "source": [
    "def get_values(tree, location: list):\n",
    "    expr1 = tree.var_name\n",
    "    expr2 = \".\".join([f\"nodes[{el}]\" for el in location])\n",
    "    expr3 = \"val\"\n",
    "\n",
    "    expr_list = [expr1, expr2, expr3] if expr2 else [expr1, expr3]\n",
    "    expression = \".\".join(expr_list)\n",
    "\n",
    "    print(expression)\n",
    "\n",
    "    return eval(expression)"
   ]
  },
  {
   "cell_type": "code",
   "execution_count": 3,
   "metadata": {},
   "outputs": [
    {
     "ename": "NameError",
     "evalue": "name 'get_values' is not defined",
     "output_type": "error",
     "traceback": [
      "\u001b[0;31m---------------------------------------------------------------------------\u001b[0m",
      "\u001b[0;31mNameError\u001b[0m                                 Traceback (most recent call last)",
      "Cell \u001b[0;32mIn[3], line 1\u001b[0m\n\u001b[0;32m----> 1\u001b[0m \u001b[43mget_values\u001b[49m(tree_main, [])\n",
      "\u001b[0;31mNameError\u001b[0m: name 'get_values' is not defined"
     ]
    }
   ],
   "source": [
    "get_values(tree_main, [])"
   ]
  },
  {
   "cell_type": "code",
   "execution_count": 47,
   "metadata": {},
   "outputs": [
    {
     "name": "stdout",
     "output_type": "stream",
     "text": [
      "tree_main.nodes[0].val\n"
     ]
    },
    {
     "data": {
      "text/plain": [
       "2"
      ]
     },
     "execution_count": 47,
     "metadata": {},
     "output_type": "execute_result"
    }
   ],
   "source": [
    "get_values(tree_main, [0])"
   ]
  },
  {
   "cell_type": "code",
   "execution_count": null,
   "metadata": {},
   "outputs": [
    {
     "ename": "",
     "evalue": "",
     "output_type": "error",
     "traceback": [
      "\u001b[1;31mRunning cells with 'myenv (Python 3.11.6)' requires the ipykernel package.\n",
      "\u001b[1;31mRun the following command to install 'ipykernel' into the Python environment. \n",
      "\u001b[1;31mCommand: '/Users/keisukeonoue/ws/make_24/myenv/bin/python -m pip install ipykernel -U --force-reinstall'"
     ]
    }
   ],
   "source": [
    "tree_main"
   ]
  },
  {
   "cell_type": "code",
   "execution_count": null,
   "metadata": {},
   "outputs": [],
   "source": []
  },
  {
   "cell_type": "code",
   "execution_count": null,
   "metadata": {},
   "outputs": [],
   "source": [
    "def add_node(tree, value, location: list):\n",
    "    expr1 = tree.var_name\n",
    "    expr2 = \".\".join([f\"nodes[{idx}]\" for idx in location])\n",
    "    expr3 = f\"add_node({value})\"\n",
    "\n",
    "    # expr_list = [expr for expr in [expr1, expr2, expr3] if expr]\n",
    "    expr_list = [expr1, expr2, expr3] if expr2 else [expr1, expr3]\n",
    "    expression = \".\".join(expr_list)\n",
    "\n",
    "    print(expression)\n",
    "\n",
    "    eval(expression)"
   ]
  },
  {
   "cell_type": "code",
   "execution_count": null,
   "metadata": {},
   "outputs": [],
   "source": []
  },
  {
   "cell_type": "code",
   "execution_count": null,
   "metadata": {},
   "outputs": [],
   "source": [
    "add_node(tree_counter, )"
   ]
  },
  {
   "cell_type": "code",
   "execution_count": 15,
   "metadata": {},
   "outputs": [],
   "source": [
    "a = NonBinTree(0)\n",
    "a.add_node(1)\n",
    "a.add_node(3)\n",
    "a.add_node(4)\n",
    "a.nodes[2].add_node(2)"
   ]
  },
  {
   "cell_type": "code",
   "execution_count": 6,
   "metadata": {},
   "outputs": [
    {
     "data": {
      "text/plain": [
       "'.jjjjj'"
      ]
     },
     "execution_count": 6,
     "metadata": {},
     "output_type": "execute_result"
    }
   ],
   "source": [
    "\".\".join([\"\", \"jjjjj\"])"
   ]
  },
  {
   "cell_type": "code",
   "execution_count": 2,
   "metadata": {},
   "outputs": [
    {
     "data": {
      "text/plain": [
       "[1, 2, 3]"
      ]
     },
     "execution_count": 2,
     "metadata": {},
     "output_type": "execute_result"
    }
   ],
   "source": [
    "tmp = [1, 2, 3]\n",
    "tmp"
   ]
  },
  {
   "cell_type": "code",
   "execution_count": 3,
   "metadata": {},
   "outputs": [
    {
     "data": {
      "text/plain": [
       "[]"
      ]
     },
     "execution_count": 3,
     "metadata": {},
     "output_type": "execute_result"
    }
   ],
   "source": [
    "tmp[:0]"
   ]
  },
  {
   "cell_type": "code",
   "execution_count": 5,
   "metadata": {},
   "outputs": [
    {
     "name": "stdout",
     "output_type": "stream",
     "text": [
      "[]\n",
      "[1]\n",
      "[1, 2]\n",
      "[1, 2, 3]\n"
     ]
    }
   ],
   "source": [
    "for i in range(len(tmp) + 1):\n",
    "    print(tmp[:i])"
   ]
  },
  {
   "cell_type": "code",
   "execution_count": 14,
   "metadata": {},
   "outputs": [
    {
     "data": {
      "text/plain": [
       "[1, 2, 3, 4, 5, 6]"
      ]
     },
     "execution_count": 14,
     "metadata": {},
     "output_type": "execute_result"
    }
   ],
   "source": [
    "tmp1 = [1, 2, 3]\n",
    "tmp2 = [4, 5, 6]\n",
    "\n",
    "tmp = tmp1 + tmp2\n",
    "tmp"
   ]
  },
  {
   "cell_type": "code",
   "execution_count": 15,
   "metadata": {},
   "outputs": [
    {
     "data": {
      "text/plain": [
       "6"
      ]
     },
     "execution_count": 15,
     "metadata": {},
     "output_type": "execute_result"
    }
   ],
   "source": [
    "tmp.pop()"
   ]
  },
  {
   "cell_type": "code",
   "execution_count": 16,
   "metadata": {},
   "outputs": [
    {
     "data": {
      "text/plain": [
       "[1, 2, 3, 4, 5]"
      ]
     },
     "execution_count": 16,
     "metadata": {},
     "output_type": "execute_result"
    }
   ],
   "source": [
    "tmp"
   ]
  },
  {
   "cell_type": "code",
   "execution_count": 17,
   "metadata": {},
   "outputs": [
    {
     "data": {
      "text/plain": [
       "[1, 2, 3]"
      ]
     },
     "execution_count": 17,
     "metadata": {},
     "output_type": "execute_result"
    }
   ],
   "source": [
    "tmp1"
   ]
  },
  {
   "cell_type": "code",
   "execution_count": 18,
   "metadata": {},
   "outputs": [
    {
     "data": {
      "text/plain": [
       "[4, 5, 6]"
      ]
     },
     "execution_count": 18,
     "metadata": {},
     "output_type": "execute_result"
    }
   ],
   "source": [
    "tmp2"
   ]
  },
  {
   "cell_type": "code",
   "execution_count": 19,
   "metadata": {},
   "outputs": [
    {
     "data": {
      "text/plain": [
       "[]"
      ]
     },
     "execution_count": 19,
     "metadata": {},
     "output_type": "execute_result"
    }
   ],
   "source": [
    "tmp = []\n",
    "tmp"
   ]
  },
  {
   "cell_type": "code",
   "execution_count": 21,
   "metadata": {},
   "outputs": [
    {
     "name": "stdout",
     "output_type": "stream",
     "text": [
      "3\n",
      "2\n",
      "1\n",
      "6\n",
      "5\n",
      "4\n"
     ]
    }
   ],
   "source": [
    "tmp1 = [1, 2, 3]\n",
    "tmp2 = [4, 5, 6]\n",
    "\n",
    "while tmp1 or tmp2:\n",
    "    val = tmp1.pop() if tmp1 else tmp2.pop()\n",
    "    print(val)"
   ]
  },
  {
   "cell_type": "code",
   "execution_count": 29,
   "metadata": {},
   "outputs": [
    {
     "ename": "SyntaxError",
     "evalue": "invalid syntax (434891968.py, line 1)",
     "output_type": "error",
     "traceback": [
      "\u001b[0;36m  Cell \u001b[0;32mIn[29], line 1\u001b[0;36m\u001b[0m\n\u001b[0;31m    str(+)\u001b[0m\n\u001b[0m         ^\u001b[0m\n\u001b[0;31mSyntaxError\u001b[0m\u001b[0;31m:\u001b[0m invalid syntax\n"
     ]
    }
   ],
   "source": [
    "str(+)"
   ]
  },
  {
   "cell_type": "code",
   "execution_count": 30,
   "metadata": {},
   "outputs": [
    {
     "data": {
      "text/plain": [
       "'kkkkkk+'"
      ]
     },
     "execution_count": 30,
     "metadata": {},
     "output_type": "execute_result"
    }
   ],
   "source": [
    "f'kkkkkk{\"+\"}'"
   ]
  },
  {
   "cell_type": "code",
   "execution_count": 31,
   "metadata": {},
   "outputs": [
    {
     "data": {
      "text/plain": [
       "'kkkkkk+'"
      ]
     },
     "execution_count": 31,
     "metadata": {},
     "output_type": "execute_result"
    }
   ],
   "source": [
    "f'kkkkkk{str(\"+\")}'"
   ]
  },
  {
   "cell_type": "code",
   "execution_count": 32,
   "metadata": {},
   "outputs": [
    {
     "ename": "SyntaxError",
     "evalue": "f-string expression part cannot include a backslash (3260443249.py, line 1)",
     "output_type": "error",
     "traceback": [
      "\u001b[0;36m  Cell \u001b[0;32mIn[32], line 1\u001b[0;36m\u001b[0m\n\u001b[0;31m    s = f'kkkkkk{\"\\\"+\"\\\"}'\u001b[0m\n\u001b[0m                          ^\u001b[0m\n\u001b[0;31mSyntaxError\u001b[0m\u001b[0;31m:\u001b[0m f-string expression part cannot include a backslash\n"
     ]
    }
   ],
   "source": [
    "s = f'kkkkkk{\"\\\"+\"\\\"}'\n",
    "print(s)\n"
   ]
  },
  {
   "cell_type": "code",
   "execution_count": 33,
   "metadata": {},
   "outputs": [
    {
     "name": "stdout",
     "output_type": "stream",
     "text": [
      "kkkkkk+\n"
     ]
    }
   ],
   "source": [
    "s = f'kkkkkk{\"+\"}'.replace('\"', '\\'')\n",
    "print(s)\n"
   ]
  },
  {
   "cell_type": "code",
   "execution_count": 34,
   "metadata": {},
   "outputs": [
    {
     "data": {
      "text/plain": [
       "'what\"ever'"
      ]
     },
     "execution_count": 34,
     "metadata": {},
     "output_type": "execute_result"
    }
   ],
   "source": [
    "r'what\"ever'"
   ]
  },
  {
   "cell_type": "code",
   "execution_count": 35,
   "metadata": {},
   "outputs": [
    {
     "data": {
      "text/plain": [
       "\"what'ever\""
      ]
     },
     "execution_count": 35,
     "metadata": {},
     "output_type": "execute_result"
    }
   ],
   "source": [
    "r\"what'ever\""
   ]
  },
  {
   "cell_type": "code",
   "execution_count": 23,
   "metadata": {},
   "outputs": [
    {
     "data": {
      "text/plain": [
       "'+'"
      ]
     },
     "execution_count": 23,
     "metadata": {},
     "output_type": "execute_result"
    }
   ],
   "source": [
    "'+'"
   ]
  },
  {
   "cell_type": "code",
   "execution_count": 36,
   "metadata": {},
   "outputs": [
    {
     "data": {
      "text/plain": [
       "['+']"
      ]
     },
     "execution_count": 36,
     "metadata": {},
     "output_type": "execute_result"
    }
   ],
   "source": [
    "tmp = []\n",
    "\n",
    "eval(\"tmp.append(r'+')\")\n",
    "\n",
    "tmp"
   ]
  },
  {
   "cell_type": "code",
   "execution_count": 28,
   "metadata": {},
   "outputs": [
    {
     "data": {
      "text/plain": [
       "'+'"
      ]
     },
     "execution_count": 28,
     "metadata": {},
     "output_type": "execute_result"
    }
   ],
   "source": [
    "\"+\""
   ]
  },
  {
   "cell_type": "code",
   "execution_count": null,
   "metadata": {},
   "outputs": [],
   "source": []
  },
  {
   "cell_type": "code",
   "execution_count": 16,
   "metadata": {},
   "outputs": [
    {
     "name": "stdout",
     "output_type": "stream",
     "text": [
      "50億 + 1 (gmpy2を使って計算): 500000000000000001\n",
      "50億 + 1 (NumPyを使って計算): 5e+17\n",
      "50億 + 1 (NumPyを使って計算) 倍精度: 5e+17\n"
     ]
    }
   ],
   "source": [
    "import gmpy2\n",
    "import numpy as np\n",
    "\n",
    "# gmpy2を使用して50億 + 1を計算する\n",
    "result_gmpy2 = gmpy2.mpz(500000000000000001)\n",
    "\n",
    "# NumPyを使用して50億 + 1を単精度浮動小数点数で計算する\n",
    "result_numpy_32 = np.float32(500000000000000001)\n",
    "\n",
    "# NumPyを使用して50億 + 1を倍精度浮動小数点数で計算する\n",
    "result_numpy_64 = np.float64(500000000000000001)\n",
    "\n",
    "print(\"50億 + 1 (gmpy2を使って計算):\", result_gmpy2)\n",
    "print(\"50億 + 1 (NumPyを使って計算):\", result_numpy_32)\n",
    "print(\"50億 + 1 (NumPyを使って計算) 倍精度:\", result_numpy_64)\n",
    "\n",
    ">>>\n",
    "50億 + 1 (gmpy2を使って計算): 500000000000000001\n",
    "50億 + 1 (NumPyを使って計算): 5e+17\n",
    "50億 + 1 (NumPyを使って計算) 倍精度: 5e+17"
   ]
  },
  {
   "cell_type": "code",
   "execution_count": null,
   "metadata": {},
   "outputs": [],
   "source": [
    "50億 + 1 (gmpy2を使って計算): 500000000000000001\n",
    "50億 + 1 (NumPyを使って計算): 5e+17\n",
    "50億 + 1 (NumPyを使って計算) 倍精度: 5e+17"
   ]
  },
  {
   "cell_type": "code",
   "execution_count": 2,
   "metadata": {},
   "outputs": [
    {
     "data": {
      "text/plain": [
       "[2, 3, 4]"
      ]
     },
     "execution_count": 2,
     "metadata": {},
     "output_type": "execute_result"
    }
   ],
   "source": [
    "tmp = [1, 2, 3, 4]\n",
    "tmp[1:]"
   ]
  },
  {
   "cell_type": "code",
   "execution_count": null,
   "metadata": {},
   "outputs": [],
   "source": []
  },
  {
   "cell_type": "code",
   "execution_count": null,
   "metadata": {},
   "outputs": [],
   "source": []
  },
  {
   "cell_type": "code",
   "execution_count": 5,
   "metadata": {},
   "outputs": [
    {
     "data": {
      "text/plain": [
       "([], ['-'])"
      ]
     },
     "execution_count": 5,
     "metadata": {},
     "output_type": "execute_result"
    }
   ],
   "source": [
    "tmp = ([], ['-'])\n",
    "tmp"
   ]
  },
  {
   "cell_type": "code",
   "execution_count": 6,
   "metadata": {},
   "outputs": [
    {
     "data": {
      "text/plain": [
       "([], [])"
      ]
     },
     "execution_count": 6,
     "metadata": {},
     "output_type": "execute_result"
    }
   ],
   "source": [
    "([], [])"
   ]
  },
  {
   "cell_type": "code",
   "execution_count": 7,
   "metadata": {},
   "outputs": [
    {
     "data": {
      "text/plain": [
       "[]"
      ]
     },
     "execution_count": 7,
     "metadata": {},
     "output_type": "execute_result"
    }
   ],
   "source": [
    "stack = []\n",
    "stack"
   ]
  },
  {
   "cell_type": "code",
   "execution_count": 8,
   "metadata": {},
   "outputs": [
    {
     "data": {
      "text/plain": [
       "[([], ['-'])]"
      ]
     },
     "execution_count": 8,
     "metadata": {},
     "output_type": "execute_result"
    }
   ],
   "source": [
    "stack.append(([], ['-']))\n",
    "stack"
   ]
  },
  {
   "cell_type": "code",
   "execution_count": 9,
   "metadata": {},
   "outputs": [
    {
     "data": {
      "text/plain": [
       "[([], ['-']), ([], [])]"
      ]
     },
     "execution_count": 9,
     "metadata": {},
     "output_type": "execute_result"
    }
   ],
   "source": [
    "stack.append(([], []))\n",
    "stack"
   ]
  },
  {
   "cell_type": "code",
   "execution_count": null,
   "metadata": {},
   "outputs": [],
   "source": []
  },
  {
   "cell_type": "code",
   "execution_count": null,
   "metadata": {},
   "outputs": [],
   "source": []
  },
  {
   "cell_type": "code",
   "execution_count": null,
   "metadata": {},
   "outputs": [],
   "source": []
  }
 ],
 "metadata": {
  "kernelspec": {
   "display_name": "myenv",
   "language": "python",
   "name": "python3"
  },
  "language_info": {
   "codemirror_mode": {
    "name": "ipython",
    "version": 3
   },
   "file_extension": ".py",
   "mimetype": "text/x-python",
   "name": "python",
   "nbconvert_exporter": "python",
   "pygments_lexer": "ipython3",
   "version": "3.11.6"
  }
 },
 "nbformat": 4,
 "nbformat_minor": 2
}
