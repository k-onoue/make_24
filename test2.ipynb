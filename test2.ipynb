{
 "cells": [
  {
   "cell_type": "code",
   "execution_count": 1,
   "metadata": {},
   "outputs": [
    {
     "name": "stdout",
     "output_type": "stream",
     "text": [
      "operators: ['+', '-', '*', '/']\n",
      "\n",
      "numbers: [1, 2, 3, 4]\n"
     ]
    }
   ],
   "source": [
    "from copy import deepcopy\n",
    "from anytree import Node, RenderTree\n",
    "\n",
    "operators = ['+', '-', '*', '/']\n",
    "numbers = [1, 2, 3, 4]\n",
    "\n",
    "print(f'operators: {operators}')\n",
    "print()\n",
    "print(f'numbers: {numbers}')"
   ]
  },
  {
   "cell_type": "code",
   "execution_count": 4,
   "metadata": {},
   "outputs": [
    {
     "name": "stdout",
     "output_type": "stream",
     "text": [
      "root_main: Node('/1')\n",
      "\n",
      "root_sub: Node(\"/([2, 3, 4], ['+', '-', '*', '/'])\")\n",
      "\n",
      "root_counter: Node('/1')\n"
     ]
    }
   ],
   "source": [
    "nums = deepcopy(numbers)\n",
    "ops = deepcopy(operators)\n",
    "\n",
    "root_main = Node(nums.pop(0))\n",
    "root_sub = Node((nums, ops))\n",
    "root_counter = Node(1)\n",
    "\n",
    "print(f'root_main: {root_main}')\n",
    "print()\n",
    "print(f'root_sub: {root_sub}')\n",
    "print()\n",
    "print(f'root_counter: {root_counter}')"
   ]
  },
  {
   "cell_type": "code",
   "execution_count": null,
   "metadata": {},
   "outputs": [],
   "source": []
  },
  {
   "cell_type": "code",
   "execution_count": null,
   "metadata": {},
   "outputs": [],
   "source": []
  },
  {
   "cell_type": "code",
   "execution_count": 2,
   "metadata": {},
   "outputs": [
    {
     "name": "stdout",
     "output_type": "stream",
     "text": [
      "0 -> [1 -> [], 3 -> [], 4 -> [2 -> []]]\n"
     ]
    }
   ],
   "source": [
    "class NonBinTree:\n",
    "    def __init__(self, val):\n",
    "        self.val = val\n",
    "        self.nodes = []\n",
    "\n",
    "    def add_node(self, val):\n",
    "        self.nodes.append(NonBinTree(val))\n",
    "\n",
    "    def __repr__(self):\n",
    "        return f\"{self.val} -> {self.nodes}\"\n",
    "\n",
    "# 使用例\n",
    "a = NonBinTree(0)\n",
    "a.add_node(1)\n",
    "a.add_node(3)\n",
    "a.add_node(4)\n",
    "a.nodes[2].add_node(2)\n",
    "\n",
    "print(a)"
   ]
  },
  {
   "cell_type": "code",
   "execution_count": 6,
   "metadata": {},
   "outputs": [
    {
     "data": {
      "text/plain": [
       "'nodesnodes'"
      ]
     },
     "execution_count": 6,
     "metadata": {},
     "output_type": "execute_result"
    }
   ],
   "source": [
    "\"nodes\" * 2"
   ]
  },
  {
   "cell_type": "markdown",
   "metadata": {},
   "source": [
    "# 非二分木クラスの設計\n",
    "\n",
    "~~2次元配列をイメージする~~\n",
    "\n",
    "\n",
    "間違い\n",
    "```\n",
    "- i 行 j 列を指定して任意のノードにアクセス\n",
    "- 相対 or 絶対\n",
    "- 自分を 0 行 0 列 とする\n",
    "- (2, 3) ー＞ `nodes\n",
    "```\n",
    "\n",
    "- リストで任意のノードを指定\n",
    "- インデックスは階層を指定\n",
    "- 要素が（同階層内で）左から何番目のノードかを指定\n",
    "- [2, 3, 0] ー＞ `nodes[2].nodes[3].nodes[0]`\n",
    "\n",
    "- 修正\n",
    "- どこの位置のノードの下に足したいかを考えて指定\n",
    "\n"
   ]
  },
  {
   "cell_type": "code",
   "execution_count": 4,
   "metadata": {},
   "outputs": [
    {
     "name": "stdout",
     "output_type": "stream",
     "text": [
      "0 -> []\n",
      "a.add_node(3)\n",
      "0 -> [3 -> []]\n"
     ]
    }
   ],
   "source": [
    "class NonBinTree:\n",
    "    def __init__(self, val, var_name=\"\"):\n",
    "        self.var_name = var_name\n",
    "        self.val = val\n",
    "        self.nodes = []\n",
    "\n",
    "    def add_node(self, val):\n",
    "        self.nodes.append(NonBinTree(val))\n",
    "    \n",
    "    def __repr__(self):\n",
    "        return f\"{self.val} -> {self.nodes}\"\n",
    "        \n",
    "\n",
    "def add_node(tree, value, location_list):\n",
    "    expr1 = tree.var_name\n",
    "    expr2 = \".\".join([f\"nodes[{idx}]\" for idx in location_list])\n",
    "    expr3 = f\"add_node({value})\"\n",
    "\n",
    "    # expr_list = [expr for expr in [expr1, expr2, expr3] if expr]\n",
    "    expr_list = [expr1, expr2, expr3] if expr2 else [expr1, expr3]\n",
    "    expression = \".\".join(expr_list)\n",
    "\n",
    "    print(expression)\n",
    "\n",
    "    eval(expression)\n",
    "\n",
    "\n",
    "a = NonBinTree(0, var_name='a')\n",
    "print(a)\n",
    "\n",
    "add_node(a, 3, [])\n",
    "# add_node(a, 3, [1, 2, 3])\n",
    "\n",
    "print(a)"
   ]
  },
  {
   "cell_type": "code",
   "execution_count": 13,
   "metadata": {},
   "outputs": [],
   "source": [
    "class TreeManager:\n",
    "    def __init__(self, tree):\n",
    "        self.tree = tree"
   ]
  },
  {
   "cell_type": "code",
   "execution_count": 30,
   "metadata": {},
   "outputs": [
    {
     "name": "stdout",
     "output_type": "stream",
     "text": [
      "operators: ['+', '-', '*', '/']\n",
      "\n",
      "numbers: [1, 2, 3, 4]\n",
      "\n",
      "\n",
      "tree_main: 1 -> []\n",
      "\n",
      "tree_sub: ([2, 3, 4], []) -> []\n",
      "\n",
      "tree_counter: 1 -> []\n"
     ]
    }
   ],
   "source": [
    "from copy import deepcopy\n",
    "\n",
    "operators = ['+', '-', '*', '/']\n",
    "numbers = [1, 2, 3, 4]\n",
    "\n",
    "print(f'operators: {operators}')\n",
    "print()\n",
    "print(f'numbers: {numbers}')\n",
    "print()\n",
    "print()\n",
    "\n",
    "\n",
    "nums = deepcopy(numbers)\n",
    "ops = []\n",
    "\n",
    "tree_main = NonBinTree(nums.pop(0), var_name=\"tree_main\")\n",
    "tree_sub = NonBinTree((nums, ops), var_name=\"tree_sub\")\n",
    "tree_counter = NonBinTree(1, var_name=\"tree_counter\")\n",
    "\n",
    "print(f'tree_main: {tree_main}')\n",
    "print()\n",
    "print(f'tree_sub: {tree_sub}')\n",
    "print()\n",
    "print(f'tree_counter: {tree_counter}')"
   ]
  },
  {
   "cell_type": "code",
   "execution_count": 36,
   "metadata": {},
   "outputs": [],
   "source": [
    "current_location = []"
   ]
  },
  {
   "cell_type": "code",
   "execution_count": 32,
   "metadata": {},
   "outputs": [
    {
     "data": {
      "text/plain": [
       "2"
      ]
     },
     "execution_count": 32,
     "metadata": {},
     "output_type": "execute_result"
    }
   ],
   "source": [
    "tree_sub.val[0][0]"
   ]
  },
  {
   "cell_type": "code",
   "execution_count": 37,
   "metadata": {},
   "outputs": [
    {
     "name": "stdout",
     "output_type": "stream",
     "text": [
      "tree_main.add_node(2)\n"
     ]
    }
   ],
   "source": [
    "add_node(tree_main, tree_sub.val[0][0], current_location)"
   ]
  },
  {
   "cell_type": "code",
   "execution_count": 38,
   "metadata": {},
   "outputs": [
    {
     "data": {
      "text/plain": [
       "1 -> [2 -> []]"
      ]
     },
     "execution_count": 38,
     "metadata": {},
     "output_type": "execute_result"
    }
   ],
   "source": [
    "tree_main"
   ]
  },
  {
   "cell_type": "code",
   "execution_count": 43,
   "metadata": {},
   "outputs": [
    {
     "name": "stdout",
     "output_type": "stream",
     "text": [
      "<class 'int'>\n",
      "<class 'int'>\n"
     ]
    },
    {
     "data": {
      "text/plain": [
       "2"
      ]
     },
     "execution_count": 43,
     "metadata": {},
     "output_type": "execute_result"
    }
   ],
   "source": [
    "cnt = 0\n",
    "\n",
    "print(type(tree_main.val))\n",
    "cnt += 1\n",
    "\n",
    "print(type(tree_main.nodes[0].val))\n",
    "cnt += 1\n",
    "\n",
    "cnt"
   ]
  },
  {
   "cell_type": "code",
   "execution_count": 46,
   "metadata": {},
   "outputs": [],
   "source": [
    "def get_values(tree, location: list):\n",
    "    expr1 = tree.var_name\n",
    "    expr2 = \".\".join([f\"nodes[{el}]\" for el in location])\n",
    "    expr3 = \"val\"\n",
    "\n",
    "    expr_list = [expr1, expr2, expr3] if expr2 else [expr1, expr3]\n",
    "    expression = \".\".join(expr_list)\n",
    "\n",
    "    print(expression)\n",
    "\n",
    "    return eval(expression)"
   ]
  },
  {
   "cell_type": "code",
   "execution_count": 47,
   "metadata": {},
   "outputs": [
    {
     "name": "stdout",
     "output_type": "stream",
     "text": [
      "tree_main.nodes[0].val\n"
     ]
    },
    {
     "data": {
      "text/plain": [
       "2"
      ]
     },
     "execution_count": 47,
     "metadata": {},
     "output_type": "execute_result"
    }
   ],
   "source": [
    "get_values(tree_main, [0])"
   ]
  },
  {
   "cell_type": "code",
   "execution_count": null,
   "metadata": {},
   "outputs": [],
   "source": [
    "def add_node(tree, value, location: list):\n",
    "    expr1 = tree.var_name\n",
    "    expr2 = \".\".join([f\"nodes[{idx}]\" for idx in location])\n",
    "    expr3 = f\"add_node({value})\"\n",
    "\n",
    "    # expr_list = [expr for expr in [expr1, expr2, expr3] if expr]\n",
    "    expr_list = [expr1, expr2, expr3] if expr2 else [expr1, expr3]\n",
    "    expression = \".\".join(expr_list)\n",
    "\n",
    "    print(expression)\n",
    "\n",
    "    eval(expression)"
   ]
  },
  {
   "cell_type": "code",
   "execution_count": null,
   "metadata": {},
   "outputs": [],
   "source": []
  },
  {
   "cell_type": "code",
   "execution_count": null,
   "metadata": {},
   "outputs": [],
   "source": [
    "add_node(tree_counter, )"
   ]
  },
  {
   "cell_type": "code",
   "execution_count": 15,
   "metadata": {},
   "outputs": [],
   "source": [
    "a = NonBinTree(0)\n",
    "a.add_node(1)\n",
    "a.add_node(3)\n",
    "a.add_node(4)\n",
    "a.nodes[2].add_node(2)"
   ]
  },
  {
   "cell_type": "code",
   "execution_count": null,
   "metadata": {},
   "outputs": [],
   "source": []
  },
  {
   "cell_type": "code",
   "execution_count": null,
   "metadata": {},
   "outputs": [],
   "source": []
  },
  {
   "cell_type": "code",
   "execution_count": null,
   "metadata": {},
   "outputs": [],
   "source": []
  },
  {
   "cell_type": "code",
   "execution_count": null,
   "metadata": {},
   "outputs": [],
   "source": []
  }
 ],
 "metadata": {
  "kernelspec": {
   "display_name": "myenv",
   "language": "python",
   "name": "python3"
  },
  "language_info": {
   "codemirror_mode": {
    "name": "ipython",
    "version": 3
   },
   "file_extension": ".py",
   "mimetype": "text/x-python",
   "name": "python",
   "nbconvert_exporter": "python",
   "pygments_lexer": "ipython3",
   "version": "3.10.12"
  }
 },
 "nbformat": 4,
 "nbformat_minor": 2
}
