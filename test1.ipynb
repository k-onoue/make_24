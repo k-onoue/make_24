{
 "cells": [
  {
   "cell_type": "markdown",
   "metadata": {},
   "source": [
    "# Naive implementation"
   ]
  },
  {
   "cell_type": "code",
   "execution_count": 2,
   "metadata": {},
   "outputs": [],
   "source": [
    "from copy import deepcopy\n",
    "from itertools import permutations, product\n",
    "\n",
    "class Solver:\n",
    "\n",
    "    def __init__(\n",
    "            self,\n",
    "            target_number: int,\n",
    "            numbers: list[int],\n",
    "            accuracy: float = 0.00000001, # print(3 / (1 - 2 / 3)) >>> 8.999999999999998\n",
    "        ) -> None:\n",
    "\n",
    "        # Initialize the Solver object with target number, numbers to operate on, and accuracy\n",
    "        self.target_number = target_number\n",
    "        self.numbers = numbers\n",
    "\n",
    "        # Accuracy to determine how close a solution needs to be to the target number\n",
    "        self.accuracy = accuracy\n",
    "\n",
    "        # Create a list of all unique permutations of the given numbers\n",
    "        self.numbers_list = [list(nums) for nums in set(permutations(numbers))]\n",
    "        self.iter_num = len(numbers) - 1\n",
    "\n",
    "        # Dictionary of basic arithmetic operators\n",
    "        self.operators = {\n",
    "            '+': lambda x, y: x + y,\n",
    "            '-': lambda x, y: x - y,\n",
    "            '*': lambda x, y: x * y,\n",
    "            '/': lambda x, y: x / y,\n",
    "        }\n",
    "\n",
    "        # List of all possible combinations of operators and their calculation orders\n",
    "        self.operators_with_calc_order = self._list_operator_calc_order_pair()\n",
    "\n",
    "    def _list_operator_calc_order_pair(self) -> list[dict[int, str]]:\n",
    "        # Generate all possible calculation orders for given number of operands\n",
    "        calc_orders = list(permutations([num for num in range(self.iter_num)]))\n",
    "\n",
    "        operators_with_calc_order = []\n",
    "\n",
    "        # Generate all possible combinations of operators and calculation orders\n",
    "        for op_combination in product(self.operators.keys(), repeat=self.iter_num):\n",
    "            for calc_order in calc_orders:\n",
    "                operators_with_calc_order.append({order: op for order, op in zip(calc_order, op_combination)})\n",
    "\n",
    "        return operators_with_calc_order\n",
    "\n",
    "    def calculate(self, numbers: list[int], op_order: dict[int, str]) -> float:\n",
    "        # Deep copy the numbers to avoid modifying the original list\n",
    "        nums = deepcopy(numbers)\n",
    "        idxs_used = []\n",
    "\n",
    "        # Iterate through each operator and perform the corresponding calculation\n",
    "        for i in range(self.iter_num):\n",
    "            tmp = list(op_order).index(i)\n",
    "            op = op_order[i]\n",
    "\n",
    "            # Check for division by zero\n",
    "            if op == '/' and nums[tmp + 1] == 0:\n",
    "                return None\n",
    "\n",
    "            # Perform the operation and update the result in the list\n",
    "            res = self.operators[op](nums[tmp], nums[tmp + 1])\n",
    "\n",
    "            # Track the indices used in the calculation\n",
    "            if tmp not in idxs_used:\n",
    "                idxs_used.append(tmp)\n",
    "            if tmp + 1 not in idxs_used:\n",
    "                idxs_used.append(tmp + 1)\n",
    "\n",
    "            # Update the list with the result of the calculation\n",
    "            for idx in idxs_used:\n",
    "                nums[idx] = res\n",
    "\n",
    "        return nums[0]\n",
    "\n",
    "    def solve(self) -> list[dict]:\n",
    "        # List to store solutions\n",
    "        solutions = []\n",
    "\n",
    "        # Iterate through each permutation of numbers and each combination of operators and their orders\n",
    "        for numbers in self.numbers_list:\n",
    "            for op_order in self.operators_with_calc_order:\n",
    "                # Calculate the result\n",
    "                res = self.calculate(numbers, op_order)\n",
    "\n",
    "                # Check if the result is within the desired accuracy of the target number\n",
    "                if res is not None and abs(res - self.target_number) <= self.accuracy:\n",
    "                    # If so, store the solution\n",
    "                    solution = {\n",
    "                        \"target_number\": self.target_number,\n",
    "                        \"numbers\": numbers,\n",
    "                        \"op_order\": op_order\n",
    "                    }\n",
    "\n",
    "                    solutions.append(solution)\n",
    "\n",
    "        # If no solutions were found, print a message\n",
    "        if not solutions:\n",
    "            print('No Solutions')\n",
    "\n",
    "        return solutions\n",
    "\n",
    "    def visualise(self, solution: dict) -> None:\n",
    "        target_num = deepcopy(solution['target_number'])\n",
    "        nums = deepcopy(solution['numbers'])\n",
    "        op_order = deepcopy(solution['op_order'])\n",
    "        idxs_used = []\n",
    "\n",
    "        for i in range(self.iter_num):\n",
    "            tmp = list(op_order).index(i)\n",
    "            op = op_order[i]\n",
    "\n",
    "            if i != self.iter_num - 1:\n",
    "                res = f'({nums[tmp]}{op}{nums[tmp + 1]})'\n",
    "            elif i == self.iter_num - 1:\n",
    "                res = f'{nums[tmp]}{op}{nums[tmp + 1]}'\n",
    "\n",
    "            if tmp not in idxs_used:\n",
    "                idxs_used.append(tmp)\n",
    "            if tmp + 1 not in idxs_used:\n",
    "                idxs_used.append(tmp + 1)\n",
    "\n",
    "            for idx in idxs_used:\n",
    "                nums[idx] = res\n",
    "\n",
    "        print(nums[0])"
   ]
  },
  {
   "cell_type": "code",
   "execution_count": 3,
   "metadata": {},
   "outputs": [
    {
     "data": {
      "text/plain": [
       "[{'target_number': 24,\n",
       "  'numbers': [8, 3, 8, 3],\n",
       "  'op_order': {2: '/', 1: '-', 0: '/'}}]"
      ]
     },
     "execution_count": 3,
     "metadata": {},
     "output_type": "execute_result"
    }
   ],
   "source": [
    "numbers = [3, 3, 8, 8]\n",
    "target_number = 24\n",
    "\n",
    "s = Solver(target_number, numbers)\n",
    "solutions = s.solve()\n",
    "solutions"
   ]
  },
  {
   "cell_type": "code",
   "execution_count": 4,
   "metadata": {},
   "outputs": [
    {
     "data": {
      "text/plain": [
       "{'target_number': 24,\n",
       " 'numbers': [8, 3, 8, 3],\n",
       " 'op_order': {2: '/', 1: '-', 0: '/'}}"
      ]
     },
     "execution_count": 4,
     "metadata": {},
     "output_type": "execute_result"
    }
   ],
   "source": [
    "sol = solutions[0]\n",
    "sol"
   ]
  },
  {
   "cell_type": "code",
   "execution_count": 5,
   "metadata": {},
   "outputs": [
    {
     "name": "stdout",
     "output_type": "stream",
     "text": [
      "8/(3-(8/3))\n"
     ]
    }
   ],
   "source": [
    "s.visualise(sol)"
   ]
  },
  {
   "cell_type": "code",
   "execution_count": 6,
   "metadata": {},
   "outputs": [
    {
     "data": {
      "text/plain": [
       "23.99999999999999"
      ]
     },
     "execution_count": 6,
     "metadata": {},
     "output_type": "execute_result"
    }
   ],
   "source": [
    "eval(\"8/(3-(8/3))\")"
   ]
  },
  {
   "cell_type": "code",
   "execution_count": null,
   "metadata": {},
   "outputs": [],
   "source": []
  },
  {
   "cell_type": "markdown",
   "metadata": {},
   "source": [
    "# Advanced Method\n",
    "\n",
    "https://pydocument.hatenablog.com/entry/2023/03/25/140055\n",
    "\n",
    "- 逆ポーランド記法\n",
    "- スタック\n",
    "\n",
    "ー＞ tree を処理\n",
    "\n",
    "https://qiita.com/Yuya-Shimizu/items/86a2246306bad769462d\n",
    "\n",
    "最終的には木構造を深さ優先探索したい"
   ]
  },
  {
   "cell_type": "code",
   "execution_count": null,
   "metadata": {},
   "outputs": [],
   "source": [
    "def evaluate(expression):\n",
    "    stack = []\n",
    "    for element in expression.split():\n",
    "        if element.isdigit():\n",
    "            stack.append(int(element))\n",
    "        else:\n",
    "            num2 = stack.pop()\n",
    "            num1 = stack.pop()\n",
    "            if element == '+':\n",
    "                stack.append(num1 + num2)\n",
    "            elif element == '-':\n",
    "                stack.append(num1 - num2)\n",
    "            elif element == '*':\n",
    "                stack.append(num1 * num2)\n",
    "            elif element == '/':\n",
    "                stack.append(num1 / num2)\n",
    "    return stack.pop()"
   ]
  },
  {
   "cell_type": "markdown",
   "metadata": {},
   "source": [
    "1. まずは演算子と数字を一種類ずつ用いて考えうる逆ポーランド記法の数式の全てを書き出す\n",
    "\n",
    "2. 使用できる演算子全ての組み合わせを書き下す\n",
    "\n",
    "3. 2 で書き下した各表現について，使用できる数字で全ての組み合わせを作る"
   ]
  },
  {
   "cell_type": "markdown",
   "metadata": {},
   "source": [
    "1. 演算子の前には２つの数字が積まれていないといけない\n",
    "\n",
    "n 個の数字と，n - 1 個の演算子\n",
    "\n",
    "これこそ木構造かも"
   ]
  },
  {
   "cell_type": "code",
   "execution_count": null,
   "metadata": {},
   "outputs": [],
   "source": [
    "nums = [1, 1, 1, 1]\n",
    "# ops = ['・', '・', '・']\n",
    "ops = [-1, -1, -1]\n",
    "\n",
    "# 前から足して常に > 0 になるように並べる\n",
    "\n",
    "# tree で任意の階層の child node の生成の際に使えそう（再帰）\n",
    "eval(\"print('Hello world')\")"
   ]
  }
 ],
 "metadata": {
  "kernelspec": {
   "display_name": "myenv",
   "language": "python",
   "name": "python3"
  },
  "language_info": {
   "codemirror_mode": {
    "name": "ipython",
    "version": 3
   },
   "file_extension": ".py",
   "mimetype": "text/x-python",
   "name": "python",
   "nbconvert_exporter": "python",
   "pygments_lexer": "ipython3",
   "version": "3.11.6"
  }
 },
 "nbformat": 4,
 "nbformat_minor": 2
}
